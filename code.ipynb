{
  "cells": [
    {
      "cell_type": "code",
      "execution_count": null,
      "metadata": {
        "id": "PbOq_H3HTi4I"
      },
      "outputs": [],
      "source": [
        "import torch\n",
        "import torch.nn as nn\n",
        "\n",
        "class ConvAutoencoder(nn.Module):\n",
        "    def __init__(self):\n",
        "        super(ConvAutoencoder, self).__init__()\n",
        "\n",
        "        # Encoder layers\n",
        "        self.enc_conv1 = nn.Conv2d(1, 16, 3, stride=2, padding=1)\n",
        "        self.enc_conv2 = nn.Conv2d(16, 32, 3, stride=2, padding=1)\n",
        "        self.enc_conv3 = nn.Conv2d(32, 64, 3, stride=2, padding=1)\n",
        "\n",
        "        # Decoder layers\n",
        "        self.dec_conv1 = nn.ConvTranspose2d(64, 32, 3, stride=2, padding=1, output_padding=1)\n",
        "        self.dec_conv2 = nn.ConvTranspose2d(32, 16, 3, stride=2, padding=1, output_padding=1)\n",
        "        self.dec_conv3 = nn.ConvTranspose2d(16, 1, 3, stride=2, padding=1, output_padding=1)\n",
        "\n",
        "        # Activation function\n",
        "        self.relu = nn.ReLU()\n",
        "\n",
        "    def forward(self, x):\n",
        "        # Encode\n",
        "        x = self.relu(self.enc_conv1(x))\n",
        "        x = self.relu(self.enc_conv2(x))\n",
        "        x = self.relu(self.enc_conv3(x))\n",
        "\n",
        "        # Decode\n",
        "        x = self.relu(self.dec_conv1(x))\n",
        "        x = self.relu(self.dec_conv2(x))\n",
        "        x = torch.sigmoid(self.dec_conv3(x))\n",
        "\n",
        "        return x\n"
      ]
    },
    {
      "cell_type": "code",
      "execution_count": null,
      "metadata": {
        "id": "oHv7dNMveWuc"
      },
      "outputs": [],
      "source": [
        "import torch\n",
        "import torch.nn as nn\n",
        "\n",
        "class ConvAutoencoder(nn.Module):\n",
        "    def __init__(self, latent_dim=128):\n",
        "        super(ConvAutoencoder, self).__init__()\n",
        "        self.latent_dim = latent_dim\n",
        "\n",
        "        # Encoder layers\n",
        "        self.enc = nn.Sequential(\n",
        "            nn.Conv2d(1, 16, 3, stride=2, padding=1),\n",
        "            # nn.BatchNorm2d(16),\n",
        "            nn.LeakyReLU(),\n",
        "            nn.Conv2d(16, 32, 3, stride=2, padding=1),\n",
        "            nn.BatchNorm2d(32),\n",
        "            nn.LeakyReLU(),\n",
        "            nn.Conv2d(32, 64, 3, stride=2, padding=1),\n",
        "            # nn.BatchNorm2d(64),\n",
        "            nn.LeakyReLU(),\n",
        "            nn.Flatten(),\n",
        "            nn.Linear(64 * 28 * 28, self.latent_dim),\n",
        "            nn.BatchNorm1d(self.latent_dim),\n",
        "            nn.LeakyReLU()\n",
        "        )\n",
        "\n",
        "\n",
        "        # self.enc_conv1 = nn.Conv2d(1, 16, 3, stride=2, padding=1)\n",
        "        # self.enc_conv2 = nn.Conv2d(16, 32, 3, stride=2, padding=1)\n",
        "        # self.enc_conv3 = nn.Conv2d(32, 64, 3, stride=2, padding=1)\n",
        "\n",
        "        # # Latent space\n",
        "        # self.latent_dim = latent_dim\n",
        "        # self.fc1 = nn.Linear(64 * 28 * 28, self.latent_dim)\n",
        "        self.fc2 = nn.Sequential(\n",
        "            nn.Linear(self.latent_dim, 64 * 28 * 28),\n",
        "            nn.BatchNorm1d(64 * 28 * 28),\n",
        "            nn.LeakyReLU()\n",
        "        )\n",
        "\n",
        "        self.dec = nn.Sequential(\n",
        "            nn.ConvTranspose2d(64, 32, 3, stride=2, padding=1, output_padding=1),\n",
        "            # nn.BatchNorm2d(32),\n",
        "            nn.LeakyReLU(),\n",
        "            nn.ConvTranspose2d(32, 16, 3, stride=2, padding=1, output_padding=1),\n",
        "            nn.BatchNorm2d(16),\n",
        "            nn.LeakyReLU(),\n",
        "            nn.ConvTranspose2d(16, 1, 3, stride=2, padding=1, output_padding=1),\n",
        "            nn.Sigmoid(),\n",
        "        )\n",
        "\n",
        "        # Decoder layers\n",
        "        # self.dec_conv1 = nn.ConvTranspose2d(64, 32, 3, stride=2, padding=1, output_padding=1)\n",
        "        # self.dec_conv2 = nn.ConvTranspose2d(32, 16, 3, stride=2, padding=1, output_padding=1)\n",
        "        # self.dec_conv3 = nn.ConvTranspose2d(16, 1, 3, stride=2, padding=1, output_padding=1)\n",
        "\n",
        "        # Activation functions\n",
        "        self.relu = nn.ReLU()\n",
        "        self.sigmoid = nn.Sigmoid()\n",
        "\n",
        "\n",
        "        # Classification layer\n",
        "        self.classifier = nn.Sequential(nn.Linear(self.latent_dim, 1), nn.Sigmoid())\n",
        "\n",
        "\n",
        "    # def encode(self, x):\n",
        "    #     x = self.relu(self.enc_conv1(x))\n",
        "    #     x = self.relu(self.enc_conv2(x))\n",
        "    #     x = self.relu(self.enc_conv3(x))\n",
        "    #     x = x.view(x.size(0), -1)\n",
        "    #     x = self.relu(self.fc1(x))\n",
        "    #     return x\n",
        "\n",
        "    # def decode(self, z):\n",
        "    #     z = self.relu(self.fc2(z))\n",
        "    #     z = z.view(z.size(0), 64, 28, 28)\n",
        "    #     z = self.relu(self.dec_conv1(z))\n",
        "    #     z = self.relu(self.dec_conv2(z))\n",
        "    #     z = self.sigmoid(self.dec_conv3(z))\n",
        "    #     return z\n",
        "\n",
        "    def forward(self, x):\n",
        "        # Encode\n",
        "        z = self.enc(x)\n",
        "\n",
        "        # Classification\n",
        "        y = self.classifier(z)\n",
        "\n",
        "        # Decode\n",
        "        flat = self.fc2(z)\n",
        "        x_hat = flat.reshape(flat.shape[0], -1, 28, 28)\n",
        "        x_hat = self.dec(x_hat)\n",
        "\n",
        "        return x_hat, y\n"
      ]
    },
    {
      "cell_type": "code",
      "execution_count": null,
      "metadata": {
        "colab": {
          "base_uri": "https://localhost:8080/"
        },
        "id": "uhecTosoxkSC",
        "outputId": "f65bb285-4491-409e-d550-056c8527bdb8"
      },
      "outputs": [
        {
          "output_type": "stream",
          "name": "stdout",
          "text": [
            "Mounted at /content/drive\n"
          ]
        }
      ],
      "source": [
        "from google.colab import drive\n",
        "drive.mount('/content/drive')"
      ]
    },
    {
      "cell_type": "code",
      "execution_count": null,
      "metadata": {
        "colab": {
          "base_uri": "https://localhost:8080/"
        },
        "id": "893hG7kuF65G",
        "outputId": "33af6682-efc5-44f7-8ca7-48316c098cd8"
      },
      "outputs": [
        {
          "output_type": "stream",
          "name": "stdout",
          "text": [
            "Looking in indexes: https://pypi.org/simple, https://us-python.pkg.dev/colab-wheels/public/simple/\n",
            "Collecting pydicom\n",
            "  Downloading pydicom-2.3.1-py3-none-any.whl (2.0 MB)\n",
            "\u001b[2K     \u001b[90m━━━━━━━━━━━━━━━━━━━━━━━━━━━━━━━━━━━━━━━━\u001b[0m \u001b[32m2.0/2.0 MB\u001b[0m \u001b[31m35.2 MB/s\u001b[0m eta \u001b[36m0:00:00\u001b[0m\n",
            "\u001b[?25hInstalling collected packages: pydicom\n",
            "Successfully installed pydicom-2.3.1\n"
          ]
        }
      ],
      "source": [
        "!pip install pydicom"
      ]
    },
    {
      "cell_type": "code",
      "execution_count": null,
      "metadata": {
        "id": "d4-aEElR-iQC"
      },
      "outputs": [],
      "source": [
        "import torch.nn as nn\n",
        "import torch\n",
        "from torchvision import datasets, transforms\n",
        "from torch.utils.data import DataLoader\n",
        "import pandas as pd\n",
        "import pydicom\n",
        "import os\n",
        "import numpy as np\n",
        "from PIL import Image\n",
        "from sklearn.utils import class_weight\n",
        "from sklearn.metrics import classification_report\n",
        "from sklearn.metrics import precision_recall_fscore_support\n",
        "from sklearn.model_selection import train_test_split\n",
        "import cv2\n",
        "import tqdm\n",
        "import matplotlib.pyplot as plt\n",
        "\n",
        "import pandas as pd\n",
        "import numpy as np\n",
        "import matplotlib.pyplot as plt\n",
        "import seaborn as sns\n",
        "import cv2\n",
        "from PIL import Image\n",
        "import imageio\n",
        "import os\n",
        "\n",
        "import torchvision as v\n",
        "import torch.optim as optim\n",
        "import torch.nn.functional as F\n",
        "from torch.autograd import Variable\n",
        "from tqdm import tqdm\n",
        "import random\n",
        "from collections import defaultdict\n",
        "\n"
      ]
    },
    {
      "cell_type": "markdown",
      "metadata": {
        "id": "l3qBWnjaE9KF"
      },
      "source": [
        "# dicomdataset class"
      ]
    },
    {
      "cell_type": "code",
      "execution_count": null,
      "metadata": {
        "id": "xwPToWiW-Zgp"
      },
      "outputs": [],
      "source": [
        "# # Define the path to the DICOM directory and the CSV file\n",
        "# dicom_dir = '/content/drive/MyDrive/DataWizardS/content/iaaa-data/DICOM'\n",
        "# csv_file = '/content/drive/MyDrive/DataWizardS/content/iaaa-data/labels.csv'\n",
        "# masks_dir = '/content/drive/MyDrive/DataWizardS/content/iaaa-data/masks'\n",
        "\n",
        "\n",
        "# # Define the batch size for the DataLoader\n",
        "# batch_size = 16\n",
        "\n",
        "# # Define the transforms to apply to the DICOM images\n",
        "# transform = transforms.Compose([\n",
        "#     transforms.Resize(448),\n",
        "#     transforms.CenterCrop(448),\n",
        "#     transforms.ToTensor(),\n",
        "#     transforms.Normalize(mean=[0.485], std=[0.229])\n",
        "# ])\n",
        "\n",
        "# # Define transforms\n",
        "# # transform = transforms.Compose([\n",
        "# #     transforms.Resize(224),\n",
        "# #     transforms.CenterCrop(224),\n",
        "# #     transforms.ToTensor(),\n",
        "# #     transforms.Normalize(mean=[0.485, 0.456, 0.406], std=[0.229, 0.224, 0.225])\n",
        "#     # transforms.Normalize((0.5), (0.5))\n",
        "# # ])\n",
        "\n",
        "# # Load the CSV file into a pandas DataFrame\n",
        "# labels_df = pd.read_csv(csv_file)\n",
        "\n",
        "# labels_df['Label'] = labels_df['Label'].replace(['normal', 'abnormal'], [1, 0])\n",
        "\n",
        "# # Define a custom dataset class to load the DICOM images\n",
        "# class DICOMDataset(torch.utils.data.Dataset):\n",
        "#     def __init__(self, dicom_dir, labels_df, masks_dir, transform=None, split=0.8):\n",
        "#         self.dicom_dir = dicom_dir\n",
        "#         self.labels_df = labels_df\n",
        "#         self.masks_dir = masks_dir\n",
        "#         self.transform = transform\n",
        "\n",
        "#         self.split = split\n",
        "#         self.train_len = int(len(self.labels_df) * self.split)\n",
        "#         self.test_len = len(self.labels_df) - self.train_len\n",
        "\n",
        "#         self.train_data = self.labels_df.iloc[:self.train_len]\n",
        "#         self.test_data = self.labels_df.iloc[self.train_len:]\n",
        "\n",
        "#         self.train = True\n",
        "\n",
        "#     def __len__(self):\n",
        "#         if self.train:\n",
        "#             return self.train_len\n",
        "#         else:\n",
        "#             return self.test_len\n",
        "\n",
        "#     def __getitem__(self, idx):\n",
        "#         if self.train:\n",
        "#             data = self.train_data\n",
        "#         else:\n",
        "#             data = self.test_data\n",
        "\n",
        "\n",
        "#         # Load the DICOM image\n",
        "#         subj_name = data.iloc[idx]['SOPInstanceUID']\n",
        "\n",
        "#         filename = subj_name + '.dcm'\n",
        "#         dicom_path = os.path.join(self.dicom_dir, filename)\n",
        "#         ds = pydicom.dcmread(dicom_path)\n",
        "\n",
        "#         # Get the label\n",
        "#         label = data.iloc[idx]['Label']\n",
        "\n",
        "#         # Convert to PIL image\n",
        "#         img_np = np.float64(ds.pixel_array)\n",
        "\n",
        "#         # applying mask on image numpy array before converting that to torch tensor\n",
        "#         if label == 'abnormal' :\n",
        "#             mask_name =  subj_name + '.png'\n",
        "#             mask_path = os.path.join(masks_dir, mask_name)\n",
        "#             mask = cv2.imread(mask_path, cv2.COLOR_BGR2GRAY)\n",
        "#             img_np = mask*img_np  # same as using cv2.bitwise_and()\n",
        "#             # img_np = cv2.bitwise_and(img_np, img_np, mask = mask)\n",
        "\n",
        "#         img = Image.fromarray(img_np).convert('L')\n",
        "\n",
        "#         if self.transform:\n",
        "#             img = self.transform(img)\n",
        "\n",
        "\n",
        "\n",
        "#         return img, label\n",
        "\n",
        "#     def set_train(self, train=True):\n",
        "#       self.train = train\n",
        "\n",
        "# dataset = DICOMDataset(dicom_dir, labels_df, masks_dir, transform=transform, split=0.8)\n",
        "# train_loader = DataLoader(dataset, batch_size=batch_size, shuffle=True)\n",
        "# dataset.set_train(False)\n",
        "# test_loader = DataLoader(dataset, batch_size=batch_size, shuffle=False)\n",
        "\n",
        "# # labels_df['Label'].value_counts()"
      ]
    },
    {
      "cell_type": "markdown",
      "metadata": {
        "id": "oDBI5t7BFH0_"
      },
      "source": [
        "# Dataset generation\n"
      ]
    },
    {
      "cell_type": "code",
      "execution_count": null,
      "metadata": {
        "id": "MJVATf4OE2b1"
      },
      "outputs": [],
      "source": [
        "\n",
        "# Define the path to the DICOM directory and the CSV file\n",
        "dicom_dir = '/content/drive/MyDrive/DataWizardS2/iaaa-data/DICOM'\n",
        "csv_file = '/content/drive/MyDrive/DataWizardS2/iaaa-data/labels.csv'\n",
        "masks_dir = '/content/drive/MyDrive/DataWizardS2/iaaa-data/masks'\n",
        "\n",
        "\n",
        "# Define the batch size for the DataLoader\n",
        "batch_size = 8\n",
        "\n",
        "# Define the transforms to apply to the DICOM images\n",
        "transform = transforms.Compose([\n",
        "    transforms.Resize(224),\n",
        "    transforms.CenterCrop(224),\n",
        "    transforms.ToTensor(),\n",
        "    transforms.Normalize(mean=[0.485], std=[0.229])\n",
        "])\n",
        "\n",
        "# Load the CSV file into a pandas DataFrame\n",
        "labels_df = pd.read_csv(csv_file)\n",
        "labels_df['Label'] = labels_df['Label'].replace(['normal', 'abnormal'], [0, 1])\n",
        "\n",
        "# Define a custom dataset class to load the DICOM images\n",
        "class DICOMDataset(torch.utils.data.Dataset):\n",
        "    def __init__(self, dicom_dir, labels_df, masks_dir, transform=None):\n",
        "        self.dicom_dir = dicom_dir\n",
        "        self.labels_df = labels_df\n",
        "        self.masks_dir = masks_dir\n",
        "        self.transform = transform\n",
        "\n",
        "\n",
        "    def __len__(self):\n",
        "        return len(self.labels_df)\n",
        "\n",
        "    def __getitem__(self, idx):\n",
        "\n",
        "        # Load the DICOM image\n",
        "        subj_name = labels_df.iloc[idx]['SOPInstanceUID']\n",
        "\n",
        "        filename = subj_name + '.dcm'\n",
        "        dicom_path = os.path.join(self.dicom_dir, filename)\n",
        "        ds = pydicom.dcmread(dicom_path)\n",
        "\n",
        "        # Get the label\n",
        "        label = labels_df.iloc[idx]['Label']\n",
        "\n",
        "        # Convert to PIL image\n",
        "        img_np = np.float32(ds.pixel_array)\n",
        "\n",
        "\n",
        "        # applying mask on image numpy array before converting that to torch tensor\n",
        "        if label == 1 :\n",
        "            mask_name =  subj_name + '.png'\n",
        "            mask_path = os.path.join(masks_dir, mask_name)\n",
        "            mask = cv2.imread(mask_path, cv2.COLOR_BGR2GRAY)\n",
        "            mask = np.array(mask)\n",
        "            # print(type(img_np))\n",
        "            img_np = mask*img_np\n",
        "\n",
        "        img = Image.fromarray(img_np).convert('L')\n",
        "        # img = cv2.cvtColor(img_np, cv2.COLOR_BGR2GRAY)\n",
        "\n",
        "        if self.transform:\n",
        "            img = self.transform(img)\n",
        "\n",
        "        return img, label\n",
        "\n",
        "    def set_train(self, train=True):\n",
        "        self.train = train"
      ]
    },
    {
      "cell_type": "code",
      "execution_count": null,
      "metadata": {
        "id": "weZ4jLrIyt73"
      },
      "outputs": [],
      "source": [
        "def bi_cls_stratified_split (dataset: torch.utils.data.Dataset, fraction, random_state=None) :\n",
        "    if random_state : random.seed(random_state)\n",
        "\n",
        "    indices_per_label = defaultdict(list)\n",
        "    for index, (image, label) in enumerate (dataset) :\n",
        "        indices_per_label[label].append(index)\n",
        "\n",
        "    train_indices, val_indices = list(), list()\n",
        "    for label, indices in indices_per_label.items():\n",
        "        n_samples_for_label = round(len(indices) * fraction)\n",
        "        random_indices_sample = random.sample(indices, n_samples_for_label)\n",
        "        train_indices.extend(random_indices_sample)\n",
        "        val_indices.extend(set(indices) - set(random_indices_sample))\n",
        "    train_dataset = torch.utils.data.Subset(dataset, train_indices)\n",
        "    val_dataset = torch.utils.data.Subset(dataset, val_indices)\n",
        "\n",
        "    return train_dataset, val_dataset"
      ]
    },
    {
      "cell_type": "code",
      "execution_count": null,
      "metadata": {
        "id": "nAc26xW46qLK"
      },
      "outputs": [],
      "source": [
        "dataset = DICOMDataset(dicom_dir, labels_df, masks_dir, transform)\n",
        "trainset, validationset = bi_cls_stratified_split(dataset, 0.8)\n",
        "train_loader = DataLoader(trainset, batch_size = batch_size, shuffle=True)\n",
        "test_loader = DataLoader(validationset, batch_size = batch_size, shuffle=False)"
      ]
    },
    {
      "cell_type": "code",
      "execution_count": null,
      "metadata": {
        "colab": {
          "base_uri": "https://localhost:8080/"
        },
        "id": "KgF_rGkAlfbU",
        "outputId": "58902824-b55e-4255-d086-890953ef6c32"
      },
      "outputs": [
        {
          "data": {
            "text/plain": [
              "717"
            ]
          },
          "execution_count": 53,
          "metadata": {},
          "output_type": "execute_result"
        }
      ],
      "source": [
        "len(train_loader.dataset)"
      ]
    },
    {
      "cell_type": "markdown",
      "metadata": {
        "id": "Rwx2PgPQ6foz"
      },
      "source": [
        "# stratified split with separated labels array\n"
      ]
    },
    {
      "cell_type": "code",
      "execution_count": null,
      "metadata": {
        "id": "-Hl6nVCvcJUY"
      },
      "outputs": [],
      "source": [
        "def stratified_split(dataset : torch.utils.data.Dataset, labels, fraction, random_state=None):\n",
        "    if random_state: random.seed(random_state)\n",
        "    indices_per_label = defaultdict(list)\n",
        "    for index, label in enumerate(labels):\n",
        "        indices_per_label[label].append(index)\n",
        "    first_set_indices, second_set_indices = list(), list()\n",
        "    for label, indices in indices_per_label.items():\n",
        "        n_samples_for_label = round(len(indices) * fraction)\n",
        "        random_indices_sample = random.sample(indices, n_samples_for_label)\n",
        "        first_set_indices.extend(random_indices_sample)\n",
        "        second_set_indices.extend(set(indices) - set(random_indices_sample))\n",
        "    first_set_inputs = torch.utils.data.Subset(dataset, first_set_indices)\n",
        "    first_set_labels = list(map(labels.__getitem__, first_set_indices))\n",
        "    second_set_inputs = torch.utils.data.Subset(dataset, second_set_indices)\n",
        "    second_set_labels = list(map(labels.__getitem__, second_set_indices))\n",
        "    return first_set_inputs, first_set_labels, second_set_inputs, second_set_labels\n",
        "\n",
        "def fun(bs) :\n",
        "    indices = np.arange(0, len(dataset))\n",
        "    train_dl = DataLoader(dataset, bs, sampler=torch.utils.data.SubsetRandomSampler(indices[:300]))\n",
        "    test_dl  = DataLoader(dataset, bs, sampler=torch.utils.data.SubsetRandomSampler(indices[-300:]))"
      ]
    },
    {
      "cell_type": "code",
      "execution_count": null,
      "metadata": {
        "colab": {
          "base_uri": "https://localhost:8080/"
        },
        "id": "wDXljfwOcb4H",
        "outputId": "8481d572-53b8-41db-8850-8767589de7ad"
      },
      "outputs": [
        {
          "data": {
            "text/plain": [
              "102"
            ]
          },
          "execution_count": 49,
          "metadata": {},
          "output_type": "execute_result"
        }
      ],
      "source": [
        "len(test_loader.dataset)"
      ]
    },
    {
      "cell_type": "markdown",
      "metadata": {
        "id": "aqyX_YqwTrCu"
      },
      "source": [
        "# Model 1"
      ]
    },
    {
      "cell_type": "code",
      "execution_count": null,
      "metadata": {
        "id": "HaLIZy0lTstO"
      },
      "outputs": [],
      "source": []
    },
    {
      "cell_type": "code",
      "execution_count": null,
      "metadata": {
        "id": "l8GVb4zYWeY4"
      },
      "outputs": [],
      "source": [
        "class Encoder1 (nn.Module) :\n",
        "  def __init__ (self,\n",
        "                in_width : int,\n",
        "                in_height : int,\n",
        "                num_input_channels : int,\n",
        "                base_channel_size : int,\n",
        "                latent_dim : int,\n",
        "                act_fn : object = nn.LeakyReLU) :\n",
        "\n",
        "    self.in_height : int = in_height\n",
        "    self.in_width : int = in_width\n",
        "    super().__init__()\n",
        "    c_hid = base_channel_size\n",
        "    flat_len : int = int (2*(in_height/32)*(in_width/32)*c_hid)\n",
        "    # flat_len = 2*64*c_hid\n",
        "\n",
        "    self.conv = nn.Sequential(\n",
        "        nn.Conv2d(num_input_channels, c_hid, kernel_size=3, padding=1, stride=2), # h*w => h/2 * w/2\n",
        "        nn.BatchNorm2d(c_hid),\n",
        "        act_fn(),\n",
        "        nn.Conv2d(c_hid, c_hid, kernel_size=3, padding=1),\n",
        "        nn.BatchNorm2d(c_hid),\n",
        "        act_fn(),\n",
        "        nn.Conv2d(c_hid, 2*c_hid, kernel_size=3, padding=1, stride=2), # h/2 * w/2 => h/4 * w/4\n",
        "        nn.BatchNorm2d(2*c_hid),\n",
        "        act_fn(),\n",
        "        nn.Conv2d(2*c_hid, 2*c_hid, kernel_size=3, padding=1, stride=2), # h/4 * w/4 => h/8 * w/8\n",
        "        nn.BatchNorm2d(2*c_hid),\n",
        "        act_fn(),\n",
        "        nn.Conv2d(2*c_hid, 2*c_hid, kernel_size=3, padding=1),\n",
        "        nn.BatchNorm2d(2*c_hid),\n",
        "        act_fn(),\n",
        "        nn.Conv2d(2*c_hid, 2*c_hid, kernel_size=3, padding=1, stride=2), # h/8 * w/8 => h/16 * w/16\n",
        "        nn.BatchNorm2d(2*c_hid),\n",
        "        act_fn(),\n",
        "        nn.Conv2d(2*c_hid, 2*c_hid, kernel_size=3, padding=1, stride=2), # h/16 * w/16 => h/32 * w/32\n",
        "        nn.BatchNorm2d(2*c_hid),\n",
        "        act_fn(),\n",
        "        nn.Flatten()\n",
        "    )\n",
        "\n",
        "    self.fc = nn.Sequential(\n",
        "        nn.Linear(flat_len, latent_dim),\n",
        "        nn.BatchNorm1d(latent_dim),\n",
        "        act_fn(),\n",
        "        nn.Linear(latent_dim, 16),\n",
        "        nn.BatchNorm1d(16),\n",
        "        act_fn(),\n",
        "        # nn.Linear(16, 8),\n",
        "        # nn.BatchNorm1d(8),\n",
        "        # act_fn(),\n",
        "        nn.Linear(16, 4),\n",
        "        nn.BatchNorm1d(4),\n",
        "        act_fn()\n",
        "    )\n",
        "\n",
        "  def forward (self, x) :\n",
        "    conv_out = self.conv(x)\n",
        "    # print(conv_out.shape)\n",
        "    # flat = torch.Tensor.flatten(conv_out)\n",
        "    # print(flat.shape)\n",
        "    return self.fc(conv_out)"
      ]
    },
    {
      "cell_type": "code",
      "execution_count": null,
      "metadata": {
        "id": "JYxpXTeOutBz"
      },
      "outputs": [],
      "source": [
        "class Decoder1 (nn.Module) :\n",
        "  def __init__ (self,\n",
        "                in_width : int,\n",
        "                in_height : int,\n",
        "                num_input_channels : int,\n",
        "                base_channel_size : int,\n",
        "                latent_dim : int,\n",
        "                act_fn : object = nn.LeakyReLU) :\n",
        "\n",
        "    self.in_height = in_height\n",
        "    self.in_width = in_width\n",
        "    super().__init__()\n",
        "    c_hid = base_channel_size\n",
        "    flat_len : int = int (2*(in_height/32)*(in_width/32)*c_hid)\n",
        "    # flat_len = 2*16*c_hid\n",
        "\n",
        "\n",
        "\n",
        "    self.fc = nn.Sequential(\n",
        "        # nn.Linear(4, 8),\n",
        "        # nn.BatchNorm1d(8),\n",
        "        # act_fn(),\n",
        "        nn.Linear(4, 16),\n",
        "        nn.BatchNorm1d(16),\n",
        "        act_fn(),\n",
        "        nn.Linear(16, latent_dim),\n",
        "        nn.BatchNorm1d(latent_dim),\n",
        "        act_fn(),\n",
        "        nn.Linear(latent_dim, flat_len),\n",
        "        nn.BatchNorm1d(flat_len),\n",
        "        act_fn()\n",
        "    )\n",
        "\n",
        "    self.convT = nn.Sequential(\n",
        "        nn.ConvTranspose2d(2*c_hid, 2*c_hid, kernel_size=3, output_padding=1, padding=1, stride=2), # h/32 => h/16\n",
        "        nn.BatchNorm2d(2*c_hid),\n",
        "        act_fn(),\n",
        "        nn.ConvTranspose2d(2*c_hid, 2*c_hid, kernel_size=3, output_padding=1, padding=1, stride=2), # h/16 => h/8\n",
        "        nn.BatchNorm2d(2*c_hid),\n",
        "        act_fn(),\n",
        "        nn.Conv2d(2*c_hid, 2*c_hid, kernel_size=3, padding=1),\n",
        "        nn.BatchNorm2d(2*c_hid),\n",
        "        act_fn(),\n",
        "        nn.ConvTranspose2d(2*c_hid, 2*c_hid, kernel_size=3, output_padding=1, padding=1, stride=2), # h/8 => h/4\n",
        "        nn.BatchNorm2d(2*c_hid),\n",
        "        act_fn(),\n",
        "        nn.ConvTranspose2d(2*c_hid, c_hid, kernel_size=3, output_padding=1, padding=1, stride=2), # h/4 * w/4 => h/2 * w/2\n",
        "        nn.BatchNorm2d(c_hid),\n",
        "        act_fn(),\n",
        "        nn.Conv2d(c_hid, c_hid, kernel_size=3, padding=1),\n",
        "        nn.BatchNorm2d(c_hid),\n",
        "        act_fn(),\n",
        "        nn.ConvTranspose2d(c_hid, num_input_channels, kernel_size=3, output_padding=1, padding=1, stride=2), # h/2 * w/2 => h*w\n",
        "        # act_fn()\n",
        "        nn.Sigmoid() # should be used with normalized input between -1 and 1\n",
        "    )\n",
        "\n",
        "  def forward(self, x) :\n",
        "\n",
        "    flat = self.fc(x)\n",
        "    # print(flat.size())\n",
        "    convT_in = flat.reshape(flat.shape[0], -1, int(self.in_height/32), int(self.in_width/32))\n",
        "    return self.convT(convT_in)"
      ]
    },
    {
      "cell_type": "code",
      "execution_count": null,
      "metadata": {
        "id": "d52KbWnYP_Gp"
      },
      "outputs": [],
      "source": [
        "enc = Encoder1(224, 224, 1, 32, 64)\n",
        "dec = Decoder1(224, 224, 1, 32, 64)\n"
      ]
    },
    {
      "cell_type": "code",
      "execution_count": null,
      "metadata": {
        "id": "A9h_gprpRj66"
      },
      "outputs": [],
      "source": [
        "class AE1 (nn.Module) :\n",
        "  def __init__(self,\n",
        "               base_channel_size: int,\n",
        "               latent_dim: int,\n",
        "            #    encoder_obj : object = Encoder,\n",
        "            #    decoder_obj : object = Decoder,\n",
        "               num_input_channels: int = 3,\n",
        "               width: int = 32,\n",
        "               height: int = 32) :\n",
        "    super().__init__()\n",
        "    self.encoder = Encoder (width, height, num_input_channels, base_channel_size, latent_dim)\n",
        "    self.decoder = Decoder (width, height, num_input_channels, base_channel_size, latent_dim)\n",
        "\n",
        "  def forward (self, x) :\n",
        "    encoded = self.encoder(x)\n",
        "    return self.decoder(encoded)\n"
      ]
    },
    {
      "cell_type": "markdown",
      "metadata": {
        "id": "5Jh70EhdNewE"
      },
      "source": [
        "# Model 2"
      ]
    },
    {
      "cell_type": "code",
      "execution_count": null,
      "metadata": {
        "id": "yBQ1Cow6Npgi"
      },
      "outputs": [],
      "source": []
    },
    {
      "cell_type": "code",
      "execution_count": null,
      "metadata": {
        "id": "XjO21WQGNqpk"
      },
      "outputs": [],
      "source": [
        "class Encoder (nn.Module) :\n",
        "  def __init__ (self,\n",
        "                in_width : int,\n",
        "                in_height : int,\n",
        "                num_input_channels : int,\n",
        "                base_channel_size : int,\n",
        "                latent_dim : int,\n",
        "                act_fn : object = nn.LeakyReLU) :\n",
        "\n",
        "    self.in_height : int = in_height\n",
        "    self.in_width : int = in_width\n",
        "    super().__init__()\n",
        "    c_hid = base_channel_size\n",
        "    flat_len : int = int (2*(in_height/4)*(in_width/4)*c_hid)\n",
        "    # flat_len = 2*64*c_hid\n",
        "\n",
        "    self.conv = nn.Sequential(\n",
        "        nn.Conv2d(num_input_channels, c_hid, kernel_size=3, padding=1, stride=2), # h*w => h/2 * w/2\n",
        "        nn.BatchNorm2d(c_hid),\n",
        "        act_fn(),\n",
        "        nn.Conv2d(c_hid, c_hid, kernel_size=3, padding=1),\n",
        "        nn.BatchNorm2d(c_hid),\n",
        "        act_fn(),\n",
        "        nn.Conv2d(c_hid, 2*c_hid, kernel_size=3, padding=1, stride=2), # h/2 * w/2 => h/4 * w/4\n",
        "        nn.BatchNorm2d(2*c_hid),\n",
        "        act_fn(),\n",
        "        # nn.Conv2d(2*c_hid, 4*c_hid, kernel_size=3, padding=1, stride=2), # h/4 * w/4 => h/8 * w/8\n",
        "        # nn.BatchNorm2d(4*c_hid),\n",
        "        # act_fn(),\n",
        "        # nn.Conv2d(2*c_hid, 2*c_hid, kernel_size=3, padding=1),\n",
        "        # nn.BatchNorm2d(2*c_hid),\n",
        "        # act_fn(),\n",
        "        # nn.Conv2d(2*c_hid, 2*c_hid, kernel_size=3, padding=1, stride=2), # h/8 * w/8 => h/16 * w/16\n",
        "        # nn.BatchNorm2d(2*c_hid),\n",
        "        # act_fn(),\n",
        "        nn.Flatten()\n",
        "    )\n",
        "\n",
        "    self.fc = nn.Sequential(\n",
        "        nn.Linear(flat_len, latent_dim),\n",
        "        nn.BatchNorm1d(latent_dim),\n",
        "        act_fn(),\n",
        "        nn.Linear(latent_dim, 16),\n",
        "        nn.BatchNorm1d(16),\n",
        "        act_fn(),\n",
        "        nn.Linear(16, 8),\n",
        "        nn.BatchNorm1d(8),\n",
        "        act_fn(),\n",
        "        nn.Linear(8, 4),\n",
        "        nn.BatchNorm1d(4),\n",
        "        act_fn()\n",
        "    )\n",
        "\n",
        "  def forward (self, x) :\n",
        "    conv_out = self.conv(x)\n",
        "    # print(conv_out.shape)\n",
        "    # flat = torch.Tensor.flatten(conv_out)\n",
        "    # print(flat.shape)\n",
        "    return self.fc(conv_out)"
      ]
    },
    {
      "cell_type": "code",
      "execution_count": null,
      "metadata": {
        "id": "Ieqq52iNNqpl"
      },
      "outputs": [],
      "source": [
        "class Decoder (nn.Module) :\n",
        "  def __init__ (self,\n",
        "                in_width : int,\n",
        "                in_height : int,\n",
        "                num_input_channels : int,\n",
        "                base_channel_size : int,\n",
        "                latent_dim : int,\n",
        "                act_fn : object = nn.LeakyReLU) :\n",
        "\n",
        "    self.in_height = in_height\n",
        "    self.in_width = in_width\n",
        "    super().__init__()\n",
        "    c_hid = base_channel_size\n",
        "    flat_len : int = int (2*(in_height/4)*(in_width/4)*c_hid)\n",
        "    # flat_len = 2*16*c_hid\n",
        "\n",
        "\n",
        "\n",
        "    self.fc = nn.Sequential(\n",
        "        nn.Linear(4, 8),\n",
        "        nn.BatchNorm1d(8),\n",
        "        act_fn(),\n",
        "        nn.Linear(8, 16),\n",
        "        nn.BatchNorm1d(16),\n",
        "        act_fn(),\n",
        "        nn.Linear(16, latent_dim),\n",
        "        nn.BatchNorm1d(latent_dim),\n",
        "        act_fn(),\n",
        "        nn.Linear(latent_dim, flat_len),\n",
        "        nn.BatchNorm1d(flat_len),\n",
        "        act_fn()\n",
        "    )\n",
        "\n",
        "    self.convT = nn.Sequential(\n",
        "        # nn.ConvTranspose2d(2*c_hid, 2*c_hid, kernel_size=3, output_padding=1, padding=1, stride=2), # h/32 => h/16\n",
        "        # nn.BatchNorm2d(2*c_hid),\n",
        "        # act_fn(),\n",
        "        # nn.ConvTranspose2d(2*c_hid, 2*c_hid, kernel_size=3, output_padding=1, padding=1, stride=2), # h/16 => h/8\n",
        "        # nn.BatchNorm2d(2*c_hid),\n",
        "        # act_fn(),\n",
        "        # nn.Conv2d(2*c_hid, 2*c_hid, kernel_size=3, padding=1),\n",
        "        # nn.BatchNorm2d(2*c_hid),\n",
        "        # act_fn(),\n",
        "        # nn.ConvTranspose2d(4*c_hid, 2*c_hid, kernel_size=3, output_padding=1, padding=1, stride=2), # h/8 => h/4\n",
        "        # nn.BatchNorm2d(2*c_hid),\n",
        "        # act_fn(),\n",
        "        nn.ConvTranspose2d(2*c_hid, c_hid, kernel_size=3, output_padding=1, padding=1, stride=2), # h/4 * w/4 => h/2 * w/2\n",
        "        nn.BatchNorm2d(c_hid),\n",
        "        act_fn(),\n",
        "        nn.Conv2d(c_hid, c_hid, kernel_size=3, padding=1),\n",
        "        nn.BatchNorm2d(c_hid),\n",
        "        act_fn(),\n",
        "        nn.ConvTranspose2d(c_hid, num_input_channels, kernel_size=3, output_padding=1, padding=1, stride=2), # h/2 * w/2 => h*w\n",
        "        # act_fn()\n",
        "        nn.Sigmoid() # should be used with normalized input between -1 and 1\n",
        "    )\n",
        "\n",
        "  def forward(self, x) :\n",
        "\n",
        "    flat = self.fc(x)\n",
        "    # print(flat.size())\n",
        "    convT_in = flat.reshape(flat.shape[0], -1, int(self.in_height/4), int(self.in_width/4))\n",
        "    return self.convT(convT_in)"
      ]
    },
    {
      "cell_type": "code",
      "execution_count": null,
      "metadata": {
        "id": "JIuUeJkONqpm"
      },
      "outputs": [],
      "source": [
        "class AE (nn.Module) :\n",
        "  def __init__(self,\n",
        "               base_channel_size: int,\n",
        "               latent_dim: int,\n",
        "            #    encoder_obj : object = Encoder,\n",
        "            #    decoder_obj : object = Decoder,\n",
        "               num_input_channels: int = 3,\n",
        "               width: int = 32,\n",
        "               height: int = 32) :\n",
        "    super().__init__()\n",
        "    self.encoder = Encoder (width, height, num_input_channels, base_channel_size, latent_dim)\n",
        "    self.decoder = Decoder (width, height, num_input_channels, base_channel_size, latent_dim)\n",
        "\n",
        "  def forward (self, x) :\n",
        "    encoded = self.encoder(x)\n",
        "    return self.decoder(encoded)\n"
      ]
    },
    {
      "cell_type": "code",
      "execution_count": null,
      "metadata": {
        "id": "Tpz4mp_P8dgb"
      },
      "outputs": [],
      "source": [
        "autoencoder = AE (32, 64, 1, 224, 224)"
      ]
    },
    {
      "cell_type": "code",
      "execution_count": null,
      "metadata": {
        "id": "EDRq6fktl5FV"
      },
      "outputs": [],
      "source": [
        "class AE_FC_classifier (nn.Module) :\n",
        "  def __init__(self,\n",
        "               Encoder : object,\n",
        "               in_features : int,\n",
        "               num_classes : int) :\n",
        "    super().__init__()\n",
        "    self.encoder = Encoder\n",
        "    self.classifier = nn.Sequential (\n",
        "        nn.Linear(in_features, num_classes),\n",
        "        nn.Sigmoid()\n",
        "    )\n",
        "\n",
        "  def forward (self, x) :\n",
        "    return self.classifier(self.Encoder(x))\n"
      ]
    },
    {
      "cell_type": "code",
      "execution_count": null,
      "metadata": {
        "id": "Gv4D97AE9pJP"
      },
      "outputs": [],
      "source": [
        "class AE_train_val :\n",
        "  def __init__ (self, model, n_epochs, criterion,\n",
        "                optimizer, learning_rate,\n",
        "                lr_scheduler = None) :\n",
        "\n",
        "    self.model = model\n",
        "    self.criterion = criterion\n",
        "    self.optimizer = optimizer\n",
        "    self.learning_rate = learning_rate\n",
        "    self.n_epochs = n_epochs\n",
        "    self.lr_sch = lr_scheduler\n",
        "    self.device = torch.device(\"cuda:0\" if torch.cuda.is_available() else \"cpu\")\n",
        "    self.val_losses = []\n",
        "    self.train_losses = []\n",
        "\n",
        "  def train(self, AE_train_loader, AE_val_loader) :\n",
        "    for epoch in range(self.n_epochs) :\n",
        "\n",
        "      running_train_loss = 0.0\n",
        "      running_val_loss = 0.0\n",
        "\n",
        "      self.model.train()\n",
        "      avg_train_loss = self.train_epoch(AE_train_loader, running_train_loss)\n",
        "      self.model.eval()\n",
        "      avg_val_loss = self.val_epoch(AE_val_loader, running_val_loss)\n",
        "\n",
        "      print ('epoch {}/{}: avg_train_loss: {} \\t avg_val_loss: {}'.format(epoch, self.n_epochs, avg_train_loss, avg_val_loss))\n",
        "\n",
        "\n",
        "\n",
        "  def train_epoch (self, AE_train_loader, running_train_loss) :\n",
        "    for batch, labels in AE_train_loader :\n",
        "      batch = batch.float().to(self.device)\n",
        "    #   print (batch.shape)\n",
        "\n",
        "      self.optimizer.zero_grad()\n",
        "      outputs = self.model(batch)\n",
        "    #   print(batch.size(), outputs.size())\n",
        "\n",
        "      loss = self.criterion (outputs, batch)\n",
        "      loss.backward()\n",
        "      self.optimizer.step()\n",
        "      running_train_loss += loss.item()\n",
        "\n",
        "\n",
        "    # train stats\n",
        "    avg_train_loss = running_train_loss / len(AE_train_loader.dataset)\n",
        "    self.train_losses.append (avg_train_loss)\n",
        "\n",
        "    return avg_train_loss\n",
        "\n",
        "  def val_epoch (self, AE_val_loader, running_val_loss) :\n",
        "    with torch.no_grad() :\n",
        "      for batch, labels in AE_val_loader :\n",
        "        batch = batch.to(self.device).float()\n",
        "        outputs = self.model(batch)\n",
        "\n",
        "        loss = self.criterion (outputs, batch)\n",
        "\n",
        "        running_val_loss += loss.item()\n",
        "\n",
        "      # validation stats\n",
        "      avg_val_loss = running_val_loss / len(AE_val_loader.dataset)\n",
        "      self.val_losses.append (avg_val_loss)\n",
        "\n",
        "      return avg_val_loss\n"
      ]
    },
    {
      "cell_type": "code",
      "execution_count": null,
      "metadata": {
        "colab": {
          "base_uri": "https://localhost:8080/"
        },
        "id": "TlVPpEkacHFn",
        "outputId": "048e537a-4232-412a-b537-2bd312dfb76d"
      },
      "outputs": [
        {
          "name": "stdout",
          "output_type": "stream",
          "text": [
            "epoch 0/10: avg_train_loss: 0.12760715871243863 \t avg_val_loss: 0.1439437807775011\n",
            "epoch 1/10: avg_train_loss: 0.12457956318773275 \t avg_val_loss: 0.14331549756667195\n",
            "epoch 2/10: avg_train_loss: 0.12257506337739911 \t avg_val_loss: 0.1435542071566862\n",
            "epoch 3/10: avg_train_loss: 0.12176948536818971 \t avg_val_loss: 0.14321657021840414\n",
            "epoch 4/10: avg_train_loss: 0.12356957961651852 \t avg_val_loss: 0.1432087877217461\n",
            "epoch 5/10: avg_train_loss: 0.12317615352040134 \t avg_val_loss: 0.14321302082024367\n",
            "epoch 6/10: avg_train_loss: 0.12223558197443257 \t avg_val_loss: 0.14321964745428048\n",
            "epoch 7/10: avg_train_loss: 0.1211758787567551 \t avg_val_loss: 0.14320906587675505\n",
            "epoch 8/10: avg_train_loss: 0.12174674949130497 \t avg_val_loss: 0.1432080210423937\n",
            "epoch 9/10: avg_train_loss: 0.12089975723763356 \t avg_val_loss: 0.14320450086219638\n"
          ]
        }
      ],
      "source": [
        "criterion = nn.MSELoss()\n",
        "optimizer = optim.Adam(autoencoder.parameters(), lr=0.01, betas=(0.9, 0.999), eps=1e-08, weight_decay=0)\n",
        "\n",
        "AE_trainer = AE_train_val(autoencoder, 10, criterion, optimizer, 0.01)\n",
        "# print(torch.shape(train_loader))\n",
        "AE_trainer.train(train_loader, test_loader)\n",
        "# batch , label = next(iter(train_loader))\n",
        "# out = autoencoder(batch)\n",
        "# out.shape, batch.shape\n",
        "# type(torch.Tensor.to_numpy(out))\n",
        "# oo = out.detach().numpy()\n",
        "# oo[0].shape\n"
      ]
    },
    {
      "cell_type": "code",
      "execution_count": null,
      "metadata": {
        "colab": {
          "base_uri": "https://localhost:8080/",
          "height": 430
        },
        "id": "UkgO0mFb8ka8",
        "outputId": "19b35900-70db-45e4-d8ec-605f0e1f9937"
      },
      "outputs": [
        {
          "data": {
            "image/png": "[encoded data removed]",
            "text/plain": [
              "<Figure size 640x480 with 1 Axes>"
            ]
          },
          "metadata": {},
          "output_type": "display_data"
        }
      ],
      "source": [
        "pl1 = plt.plot(AE_trainer.train_losses, label = 'train')\n",
        "pl2 = plt.plot(AE_trainer.val_losses, label = 'validation')\n",
        "leg = plt.legend(loc='upper left')\n",
        "plt.show()"
      ]
    },
    {
      "cell_type": "markdown",
      "metadata": {
        "id": "8Nvu2N9sfD-f"
      },
      "source": [
        "# ConvAutoEncoder"
      ]
    },
    {
      "cell_type": "code",
      "execution_count": null,
      "metadata": {
        "id": "BpogyA2Awuvo"
      },
      "outputs": [],
      "source": [
        "class AE_cls_train_val :\n",
        "  def __init__ (self, model, n_epochs, criterion_AE, criterion_cls,\n",
        "                optimizer,\n",
        "                lr_scheduler = None) :\n",
        "\n",
        "    self.model = model\n",
        "    self.criterion_AE = criterion_AE\n",
        "    self.criterion_cls = criterion_cls\n",
        "\n",
        "    self.optimizer = optimizer\n",
        "    self.n_epochs = n_epochs\n",
        "    self.lr_sch = lr_scheduler\n",
        "    self.device = torch.device(\"cuda:0\" if torch.cuda.is_available() else \"cpu\")\n",
        "    self.val_losses = []\n",
        "    self.val_accs = []\n",
        "    self.val_f1s = []\n",
        "    self.train_losses = []\n",
        "    self.train_accs = []\n",
        "    self.train_f1s = []\n",
        "\n",
        "\n",
        "    # self.val_losses_cls = []\n",
        "    # self.val_losses_rec = []\n",
        "    # self.train_losses_cls = []\n",
        "    # self.train_losses_rec = []\n",
        "\n",
        "\n",
        "\n",
        "  def train(self, AE_train_loader, AE_val_loader) :\n",
        "    for epoch in range(self.n_epochs) :\n",
        "      train_preds = []\n",
        "      val_preds = []\n",
        "      train_labels = []\n",
        "      val_labels = []\n",
        "\n",
        "      self.model.train()\n",
        "      avg_train_loss, train_acc, train_f1 = self.train_epoch(AE_train_loader, train_preds, train_labels)\n",
        "      self.model.eval()\n",
        "      avg_val_loss, val_acc, val_f1 = self.val_epoch(AE_val_loader, val_preds, val_labels)\n",
        "\n",
        "      print ('[epoch %d/%d] avg_train_loss: %.5f \\t avg_val_loss: %.5f \\t train_f1: %.15f \\t val_f1: %.15f' % (epoch+1, self.n_epochs,\n",
        "                                                                                                             avg_train_loss, avg_val_loss,\n",
        "                                                                                                             train_f1, val_f1))\n",
        "\n",
        "\n",
        "\n",
        "  def train_epoch (self, AE_train_loader, train_preds, train_labels, cl) :\n",
        "    running_train_loss = 0.0\n",
        "    train_correct = 0\n",
        "    for batch, labels in AE_train_loader :\n",
        "      batch = batch.float().to(self.device)\n",
        "\n",
        "      self.optimizer.zero_grad()\n",
        "      reconstructeds, probs = self.model(batch)\n",
        "\n",
        "      loss_rec = self.criterion_AE (reconstructeds, batch)\n",
        "      loss_cls = self.criterion_cls (probs, labels)\n",
        "      loss = loss_rec + loss_cls\n",
        "      loss.backward()\n",
        "      self.optimizer.step()\n",
        "\n",
        "      _, predicted = torch.max(classes, 1)\n",
        "      train_correct += (predicted == labels).sum().item()\n",
        "      running_train_loss += loss.item()\n",
        "      train_preds.append(predicted)\n",
        "      train_labels.append(labels)\n",
        "\n",
        "    # train stats\n",
        "    train_preds = np.concatenate(train_preds)\n",
        "    train_labels = np.concatenate(train_labels)\n",
        "    _, train_f1_score, _, _ = precision_recall_fscore_support(train_labels, train_preds, average= 'weighted')\n",
        "\n",
        "    avg_train_loss = running_train_loss / len(AE_train_loader.dataset)\n",
        "    train_acc = train_correct / len(AE_train_loader.dataset)\n",
        "\n",
        "    self.train_losses.append (avg_train_loss)\n",
        "    self.train_accs.append (train_acc)\n",
        "    self.train_f1s.append (train_f1_score)\n",
        "\n",
        "    return avg_train_loss, train_acc, train_f1_score\n",
        "\n",
        "  def val_epoch (self, AE_val_loader, val_preds, val_labels) :\n",
        "    running_val_loss = 0.0\n",
        "    val_correct = 0\n",
        "    with torch.no_grad() :\n",
        "      for batch, labels in AE_val_loader :\n",
        "        batch = batch.to(self.device).float()\n",
        "        reconstructeds, classes = self.model(batch)\n",
        "        loss_rec = self.criterion_AE (reconstructeds, batch)\n",
        "        loss_cls = self.criterion_cls (classes, labels)\n",
        "        loss = loss_rec + loss_cls\n",
        "\n",
        "        _, predicted = torch.max(classes, 1)\n",
        "        val_correct += (predicted == labels).sum().item()\n",
        "        running_val_loss += loss.item()\n",
        "        val_preds.append(predicted)\n",
        "        val_labels.append(labels)\n",
        "\n",
        "      # validation stats\n",
        "      val_preds = np.concatenate(val_preds)\n",
        "      val_labels = np.concatenate(val_labels)\n",
        "      _, val_f1_score, _, _ = precision_recall_fscore_support(val_labels, val_preds, average= 'weighted')\n",
        "    #   _, val_f1_mic, _, _ = precision_recall_fscore_support(val_labels, val_preds, average= 'micro')\n",
        "\n",
        "\n",
        "      avg_val_loss = running_val_loss / len(AE_val_loader.dataset)\n",
        "      val_acc = val_correct / len(AE_val_loader.dataset)\n",
        "\n",
        "      self.val_losses.append (avg_val_loss)\n",
        "      self.val_accs.append (val_acc)\n",
        "      self.val_f1s.append (val_f1_score)\n",
        "\n",
        "      return avg_val_loss, val_acc, val_f1_score\n",
        "\n",
        "\n"
      ]
    },
    {
      "cell_type": "code",
      "execution_count": null,
      "metadata": {
        "colab": {
          "base_uri": "https://localhost:8080/"
        },
        "id": "1ST7wfeTfDTz",
        "outputId": "1cf46e34-5bdd-4e5d-b868-23fdd7a4bbde"
      },
      "outputs": [
        {
          "name": "stdout",
          "output_type": "stream",
          "text": [
            "[epoch 1/10] avg_train_loss: 0.14301 \t avg_val_loss: 0.12272 \t train_f1: 0.965132496513250 \t val_f1: 1.000000000000000\n",
            "[epoch 2/10] avg_train_loss: 0.11343 \t avg_val_loss: 0.09734 \t train_f1: 0.974895397489540 \t val_f1: 1.000000000000000\n",
            "[epoch 3/10] avg_train_loss: 0.09503 \t avg_val_loss: 0.08291 \t train_f1: 0.986052998605300 \t val_f1: 1.000000000000000\n",
            "[epoch 4/10] avg_train_loss: 0.08206 \t avg_val_loss: 0.07133 \t train_f1: 1.000000000000000 \t val_f1: 1.000000000000000\n",
            "[epoch 5/10] avg_train_loss: 0.07334 \t avg_val_loss: 0.06437 \t train_f1: 1.000000000000000 \t val_f1: 1.000000000000000\n",
            "[epoch 6/10] avg_train_loss: 0.06920 \t avg_val_loss: 0.06214 \t train_f1: 0.998605299860530 \t val_f1: 1.000000000000000\n",
            "[epoch 7/10] avg_train_loss: 0.06530 \t avg_val_loss: 0.06025 \t train_f1: 0.998605299860530 \t val_f1: 1.000000000000000\n",
            "[epoch 8/10] avg_train_loss: 0.06146 \t avg_val_loss: 0.05833 \t train_f1: 1.000000000000000 \t val_f1: 1.000000000000000\n",
            "[epoch 9/10] avg_train_loss: 0.05990 \t avg_val_loss: 0.05766 \t train_f1: 0.998605299860530 \t val_f1: 1.000000000000000\n",
            "[epoch 10/10] avg_train_loss: 0.06050 \t avg_val_loss: 0.05661 \t train_f1: 0.998605299860530 \t val_f1: 1.000000000000000\n"
          ]
        }
      ],
      "source": [
        "ae_cls = ConvAutoencoder()\n",
        "criterion_AE = nn.MSELoss()\n",
        "\n",
        "class_weights = class_weight.compute_\n",
        "criterion_cls = nn.NLLLoss()\n",
        "optimizer = optim.Adam(ae_cls.parameters(), lr=0.001, betas=(0.9, 0.999), eps=1e-08, weight_decay=0)\n",
        "\n",
        "AE_cls_trainer = AE_cls_train_val(ae_cls, 10, criterion_AE, criterion_cls, optimizer)\n",
        "# print(torch.shape(train_loader))\n",
        "AE_cls_trainer.train(train_loader, test_loader)"
      ]
    },
    {
      "cell_type": "code",
      "execution_count": null,
      "metadata": {
        "colab": {
          "background_save": true,
          "base_uri": "https://localhost:8080/"
        },
        "id": "rlluPAjl3mNe",
        "outputId": "764cd6a3-3a72-4802-a218-0baac4c8a232"
      },
      "outputs": [
        {
          "name": "stdout",
          "output_type": "stream",
          "text": [
            "[epoch 1/10] avg_train_loss: 0.17738 \t avg_val_loss: 0.17784 \t train_f1: 0.730723606168446 \t val_f1: 0.845788849347568\n",
            "[epoch 2/10] avg_train_loss: 0.17760 \t avg_val_loss: 0.17703 \t train_f1: 0.708185053380783 \t val_f1: 0.880189798339265\n",
            "[epoch 3/10] avg_train_loss: 0.17750 \t avg_val_loss: 0.17683 \t train_f1: 0.731909845788849 \t val_f1: 0.876631079478055\n",
            "[epoch 4/10] avg_train_loss: 0.17762 \t avg_val_loss: 0.17726 \t train_f1: 0.750889679715303 \t val_f1: 0.874258600237248\n"
          ]
        },
        {
          "ename": "KeyboardInterrupt",
          "evalue": "ignored",
          "output_type": "error",
          "traceback": [
            "\u001b[0;31m---------------------------------------------------------------------------\u001b[0m",
            "\u001b[0;31mKeyboardInterrupt\u001b[0m                         Traceback (most recent call last)",
            "\u001b[0;32m<ipython-input-78-bd995534ac82>\u001b[0m in \u001b[0;36m<cell line: 4>\u001b[0;34m()\u001b[0m\n\u001b[1;32m      2\u001b[0m \u001b[0mfinal_model\u001b[0m \u001b[0;34m=\u001b[0m \u001b[0mConvAutoencoder\u001b[0m\u001b[0;34m(\u001b[0m\u001b[0;34m)\u001b[0m\u001b[0;34m\u001b[0m\u001b[0;34m\u001b[0m\u001b[0m\n\u001b[1;32m      3\u001b[0m \u001b[0mfinal_trainer\u001b[0m \u001b[0;34m=\u001b[0m \u001b[0mAE_cls_train_val\u001b[0m\u001b[0;34m(\u001b[0m\u001b[0mfinal_model\u001b[0m\u001b[0;34m,\u001b[0m \u001b[0;36m10\u001b[0m\u001b[0;34m,\u001b[0m \u001b[0mcriterion_AE\u001b[0m\u001b[0;34m,\u001b[0m \u001b[0mcriterion_cls\u001b[0m\u001b[0;34m,\u001b[0m \u001b[0moptimizer\u001b[0m\u001b[0;34m)\u001b[0m\u001b[0;34m\u001b[0m\u001b[0;34m\u001b[0m\u001b[0m\n\u001b[0;32m----> 4\u001b[0;31m \u001b[0mfinal_trainer\u001b[0m\u001b[0;34m.\u001b[0m\u001b[0mtrain\u001b[0m\u001b[0;34m(\u001b[0m\u001b[0mfinal_loader\u001b[0m\u001b[0;34m,\u001b[0m \u001b[0mfinal_loader\u001b[0m\u001b[0;34m)\u001b[0m\u001b[0;34m\u001b[0m\u001b[0;34m\u001b[0m\u001b[0m\n\u001b[0m",
            "\u001b[0;32m<ipython-input-75-6483e2765ed0>\u001b[0m in \u001b[0;36mtrain\u001b[0;34m(self, AE_train_loader, AE_val_loader)\u001b[0m\n\u001b[1;32m     35\u001b[0m \u001b[0;34m\u001b[0m\u001b[0m\n\u001b[1;32m     36\u001b[0m       \u001b[0mself\u001b[0m\u001b[0;34m.\u001b[0m\u001b[0mmodel\u001b[0m\u001b[0;34m.\u001b[0m\u001b[0mtrain\u001b[0m\u001b[0;34m(\u001b[0m\u001b[0;34m)\u001b[0m\u001b[0;34m\u001b[0m\u001b[0;34m\u001b[0m\u001b[0m\n\u001b[0;32m---> 37\u001b[0;31m       \u001b[0mavg_train_loss\u001b[0m\u001b[0;34m,\u001b[0m \u001b[0mtrain_acc\u001b[0m\u001b[0;34m,\u001b[0m \u001b[0mtrain_f1\u001b[0m \u001b[0;34m=\u001b[0m \u001b[0mself\u001b[0m\u001b[0;34m.\u001b[0m\u001b[0mtrain_epoch\u001b[0m\u001b[0;34m(\u001b[0m\u001b[0mAE_train_loader\u001b[0m\u001b[0;34m,\u001b[0m \u001b[0mtrain_preds\u001b[0m\u001b[0;34m,\u001b[0m \u001b[0mtrain_labels\u001b[0m\u001b[0;34m)\u001b[0m\u001b[0;34m\u001b[0m\u001b[0;34m\u001b[0m\u001b[0m\n\u001b[0m\u001b[1;32m     38\u001b[0m       \u001b[0mself\u001b[0m\u001b[0;34m.\u001b[0m\u001b[0mmodel\u001b[0m\u001b[0;34m.\u001b[0m\u001b[0meval\u001b[0m\u001b[0;34m(\u001b[0m\u001b[0;34m)\u001b[0m\u001b[0;34m\u001b[0m\u001b[0;34m\u001b[0m\u001b[0m\n\u001b[1;32m     39\u001b[0m       \u001b[0mavg_val_loss\u001b[0m\u001b[0;34m,\u001b[0m \u001b[0mval_acc\u001b[0m\u001b[0;34m,\u001b[0m \u001b[0mval_f1\u001b[0m \u001b[0;34m=\u001b[0m \u001b[0mself\u001b[0m\u001b[0;34m.\u001b[0m\u001b[0mval_epoch\u001b[0m\u001b[0;34m(\u001b[0m\u001b[0mAE_val_loader\u001b[0m\u001b[0;34m,\u001b[0m \u001b[0mval_preds\u001b[0m\u001b[0;34m,\u001b[0m \u001b[0mval_labels\u001b[0m\u001b[0;34m)\u001b[0m\u001b[0;34m\u001b[0m\u001b[0;34m\u001b[0m\u001b[0m\n",
            "\u001b[0;32m<ipython-input-75-6483e2765ed0>\u001b[0m in \u001b[0;36mtrain_epoch\u001b[0;34m(self, AE_train_loader, train_preds, train_labels)\u001b[0m\n\u001b[1;32m     48\u001b[0m     \u001b[0mrunning_train_loss\u001b[0m \u001b[0;34m=\u001b[0m \u001b[0;36m0.0\u001b[0m\u001b[0;34m\u001b[0m\u001b[0;34m\u001b[0m\u001b[0m\n\u001b[1;32m     49\u001b[0m     \u001b[0mtrain_correct\u001b[0m \u001b[0;34m=\u001b[0m \u001b[0;36m0\u001b[0m\u001b[0;34m\u001b[0m\u001b[0;34m\u001b[0m\u001b[0m\n\u001b[0;32m---> 50\u001b[0;31m     \u001b[0;32mfor\u001b[0m \u001b[0;34m(\u001b[0m\u001b[0m_\u001b[0m\u001b[0;34m,\u001b[0m \u001b[0mbatch\u001b[0m\u001b[0;34m)\u001b[0m\u001b[0;34m,\u001b[0m \u001b[0mlabels\u001b[0m \u001b[0;32min\u001b[0m \u001b[0mAE_train_loader\u001b[0m \u001b[0;34m:\u001b[0m\u001b[0;34m\u001b[0m\u001b[0;34m\u001b[0m\u001b[0m\n\u001b[0m\u001b[1;32m     51\u001b[0m       \u001b[0;31m# print(type(batch))\u001b[0m\u001b[0;34m\u001b[0m\u001b[0;34m\u001b[0m\u001b[0m\n\u001b[1;32m     52\u001b[0m       \u001b[0;31m# print(batch)\u001b[0m\u001b[0;34m\u001b[0m\u001b[0;34m\u001b[0m\u001b[0m\n",
            "\u001b[0;32m/usr/local/lib/python3.9/dist-packages/torch/utils/data/dataloader.py\u001b[0m in \u001b[0;36m__next__\u001b[0;34m(self)\u001b[0m\n\u001b[1;32m    632\u001b[0m                 \u001b[0;31m# TODO(https://github.com/pytorch/pytorch/issues/76750)\u001b[0m\u001b[0;34m\u001b[0m\u001b[0;34m\u001b[0m\u001b[0m\n\u001b[1;32m    633\u001b[0m                 \u001b[0mself\u001b[0m\u001b[0;34m.\u001b[0m\u001b[0m_reset\u001b[0m\u001b[0;34m(\u001b[0m\u001b[0;34m)\u001b[0m  \u001b[0;31m# type: ignore[call-arg]\u001b[0m\u001b[0;34m\u001b[0m\u001b[0;34m\u001b[0m\u001b[0m\n\u001b[0;32m--> 634\u001b[0;31m             \u001b[0mdata\u001b[0m \u001b[0;34m=\u001b[0m \u001b[0mself\u001b[0m\u001b[0;34m.\u001b[0m\u001b[0m_next_data\u001b[0m\u001b[0;34m(\u001b[0m\u001b[0;34m)\u001b[0m\u001b[0;34m\u001b[0m\u001b[0;34m\u001b[0m\u001b[0m\n\u001b[0m\u001b[1;32m    635\u001b[0m             \u001b[0mself\u001b[0m\u001b[0;34m.\u001b[0m\u001b[0m_num_yielded\u001b[0m \u001b[0;34m+=\u001b[0m \u001b[0;36m1\u001b[0m\u001b[0;34m\u001b[0m\u001b[0;34m\u001b[0m\u001b[0m\n\u001b[1;32m    636\u001b[0m             \u001b[0;32mif\u001b[0m \u001b[0mself\u001b[0m\u001b[0;34m.\u001b[0m\u001b[0m_dataset_kind\u001b[0m \u001b[0;34m==\u001b[0m \u001b[0m_DatasetKind\u001b[0m\u001b[0;34m.\u001b[0m\u001b[0mIterable\u001b[0m \u001b[0;32mand\u001b[0m\u001b[0;31m \u001b[0m\u001b[0;31m\\\u001b[0m\u001b[0;34m\u001b[0m\u001b[0;34m\u001b[0m\u001b[0m\n",
            "\u001b[0;32m/usr/local/lib/python3.9/dist-packages/torch/utils/data/dataloader.py\u001b[0m in \u001b[0;36m_next_data\u001b[0;34m(self)\u001b[0m\n\u001b[1;32m    676\u001b[0m     \u001b[0;32mdef\u001b[0m \u001b[0m_next_data\u001b[0m\u001b[0;34m(\u001b[0m\u001b[0mself\u001b[0m\u001b[0;34m)\u001b[0m\u001b[0;34m:\u001b[0m\u001b[0;34m\u001b[0m\u001b[0;34m\u001b[0m\u001b[0m\n\u001b[1;32m    677\u001b[0m         \u001b[0mindex\u001b[0m \u001b[0;34m=\u001b[0m \u001b[0mself\u001b[0m\u001b[0;34m.\u001b[0m\u001b[0m_next_index\u001b[0m\u001b[0;34m(\u001b[0m\u001b[0;34m)\u001b[0m  \u001b[0;31m# may raise StopIteration\u001b[0m\u001b[0;34m\u001b[0m\u001b[0;34m\u001b[0m\u001b[0m\n\u001b[0;32m--> 678\u001b[0;31m         \u001b[0mdata\u001b[0m \u001b[0;34m=\u001b[0m \u001b[0mself\u001b[0m\u001b[0;34m.\u001b[0m\u001b[0m_dataset_fetcher\u001b[0m\u001b[0;34m.\u001b[0m\u001b[0mfetch\u001b[0m\u001b[0;34m(\u001b[0m\u001b[0mindex\u001b[0m\u001b[0;34m)\u001b[0m  \u001b[0;31m# may raise StopIteration\u001b[0m\u001b[0;34m\u001b[0m\u001b[0;34m\u001b[0m\u001b[0m\n\u001b[0m\u001b[1;32m    679\u001b[0m         \u001b[0;32mif\u001b[0m \u001b[0mself\u001b[0m\u001b[0;34m.\u001b[0m\u001b[0m_pin_memory\u001b[0m\u001b[0;34m:\u001b[0m\u001b[0;34m\u001b[0m\u001b[0;34m\u001b[0m\u001b[0m\n\u001b[1;32m    680\u001b[0m             \u001b[0mdata\u001b[0m \u001b[0;34m=\u001b[0m \u001b[0m_utils\u001b[0m\u001b[0;34m.\u001b[0m\u001b[0mpin_memory\u001b[0m\u001b[0;34m.\u001b[0m\u001b[0mpin_memory\u001b[0m\u001b[0;34m(\u001b[0m\u001b[0mdata\u001b[0m\u001b[0;34m,\u001b[0m \u001b[0mself\u001b[0m\u001b[0;34m.\u001b[0m\u001b[0m_pin_memory_device\u001b[0m\u001b[0;34m)\u001b[0m\u001b[0;34m\u001b[0m\u001b[0;34m\u001b[0m\u001b[0m\n",
            "\u001b[0;32m/usr/local/lib/python3.9/dist-packages/torch/utils/data/_utils/fetch.py\u001b[0m in \u001b[0;36mfetch\u001b[0;34m(self, possibly_batched_index)\u001b[0m\n\u001b[1;32m     49\u001b[0m                 \u001b[0mdata\u001b[0m \u001b[0;34m=\u001b[0m \u001b[0mself\u001b[0m\u001b[0;34m.\u001b[0m\u001b[0mdataset\u001b[0m\u001b[0;34m.\u001b[0m\u001b[0m__getitems__\u001b[0m\u001b[0;34m(\u001b[0m\u001b[0mpossibly_batched_index\u001b[0m\u001b[0;34m)\u001b[0m\u001b[0;34m\u001b[0m\u001b[0;34m\u001b[0m\u001b[0m\n\u001b[1;32m     50\u001b[0m             \u001b[0;32melse\u001b[0m\u001b[0;34m:\u001b[0m\u001b[0;34m\u001b[0m\u001b[0;34m\u001b[0m\u001b[0m\n\u001b[0;32m---> 51\u001b[0;31m                 \u001b[0mdata\u001b[0m \u001b[0;34m=\u001b[0m \u001b[0;34m[\u001b[0m\u001b[0mself\u001b[0m\u001b[0;34m.\u001b[0m\u001b[0mdataset\u001b[0m\u001b[0;34m[\u001b[0m\u001b[0midx\u001b[0m\u001b[0;34m]\u001b[0m \u001b[0;32mfor\u001b[0m \u001b[0midx\u001b[0m \u001b[0;32min\u001b[0m \u001b[0mpossibly_batched_index\u001b[0m\u001b[0;34m]\u001b[0m\u001b[0;34m\u001b[0m\u001b[0;34m\u001b[0m\u001b[0m\n\u001b[0m\u001b[1;32m     52\u001b[0m         \u001b[0;32melse\u001b[0m\u001b[0;34m:\u001b[0m\u001b[0;34m\u001b[0m\u001b[0;34m\u001b[0m\u001b[0m\n\u001b[1;32m     53\u001b[0m             \u001b[0mdata\u001b[0m \u001b[0;34m=\u001b[0m \u001b[0mself\u001b[0m\u001b[0;34m.\u001b[0m\u001b[0mdataset\u001b[0m\u001b[0;34m[\u001b[0m\u001b[0mpossibly_batched_index\u001b[0m\u001b[0;34m]\u001b[0m\u001b[0;34m\u001b[0m\u001b[0;34m\u001b[0m\u001b[0m\n",
            "\u001b[0;32m/usr/local/lib/python3.9/dist-packages/torch/utils/data/_utils/fetch.py\u001b[0m in \u001b[0;36m<listcomp>\u001b[0;34m(.0)\u001b[0m\n\u001b[1;32m     49\u001b[0m                 \u001b[0mdata\u001b[0m \u001b[0;34m=\u001b[0m \u001b[0mself\u001b[0m\u001b[0;34m.\u001b[0m\u001b[0mdataset\u001b[0m\u001b[0;34m.\u001b[0m\u001b[0m__getitems__\u001b[0m\u001b[0;34m(\u001b[0m\u001b[0mpossibly_batched_index\u001b[0m\u001b[0;34m)\u001b[0m\u001b[0;34m\u001b[0m\u001b[0;34m\u001b[0m\u001b[0m\n\u001b[1;32m     50\u001b[0m             \u001b[0;32melse\u001b[0m\u001b[0;34m:\u001b[0m\u001b[0;34m\u001b[0m\u001b[0;34m\u001b[0m\u001b[0m\n\u001b[0;32m---> 51\u001b[0;31m                 \u001b[0mdata\u001b[0m \u001b[0;34m=\u001b[0m \u001b[0;34m[\u001b[0m\u001b[0mself\u001b[0m\u001b[0;34m.\u001b[0m\u001b[0mdataset\u001b[0m\u001b[0;34m[\u001b[0m\u001b[0midx\u001b[0m\u001b[0;34m]\u001b[0m \u001b[0;32mfor\u001b[0m \u001b[0midx\u001b[0m \u001b[0;32min\u001b[0m \u001b[0mpossibly_batched_index\u001b[0m\u001b[0;34m]\u001b[0m\u001b[0;34m\u001b[0m\u001b[0;34m\u001b[0m\u001b[0m\n\u001b[0m\u001b[1;32m     52\u001b[0m         \u001b[0;32melse\u001b[0m\u001b[0;34m:\u001b[0m\u001b[0;34m\u001b[0m\u001b[0;34m\u001b[0m\u001b[0m\n\u001b[1;32m     53\u001b[0m             \u001b[0mdata\u001b[0m \u001b[0;34m=\u001b[0m \u001b[0mself\u001b[0m\u001b[0;34m.\u001b[0m\u001b[0mdataset\u001b[0m\u001b[0;34m[\u001b[0m\u001b[0mpossibly_batched_index\u001b[0m\u001b[0;34m]\u001b[0m\u001b[0;34m\u001b[0m\u001b[0;34m\u001b[0m\u001b[0m\n",
            "\u001b[0;32m<ipython-input-48-096ec6175c40>\u001b[0m in \u001b[0;36m__getitem__\u001b[0;34m(self, idx)\u001b[0m\n\u001b[1;32m     55\u001b[0m \u001b[0;34m\u001b[0m\u001b[0m\n\u001b[1;32m     56\u001b[0m         \u001b[0;31m# Convert to PIL image\u001b[0m\u001b[0;34m\u001b[0m\u001b[0;34m\u001b[0m\u001b[0m\n\u001b[0;32m---> 57\u001b[0;31m         \u001b[0mimg_np\u001b[0m \u001b[0;34m=\u001b[0m \u001b[0mnp\u001b[0m\u001b[0;34m.\u001b[0m\u001b[0mfloat64\u001b[0m\u001b[0;34m(\u001b[0m\u001b[0mds\u001b[0m\u001b[0;34m.\u001b[0m\u001b[0mpixel_array\u001b[0m\u001b[0;34m)\u001b[0m\u001b[0;34m\u001b[0m\u001b[0;34m\u001b[0m\u001b[0m\n\u001b[0m\u001b[1;32m     58\u001b[0m \u001b[0;34m\u001b[0m\u001b[0m\n\u001b[1;32m     59\u001b[0m         \u001b[0;31m# applying mask on image numpy array before converting that to torch tensor\u001b[0m\u001b[0;34m\u001b[0m\u001b[0;34m\u001b[0m\u001b[0m\n",
            "\u001b[0;31mKeyboardInterrupt\u001b[0m: "
          ]
        }
      ],
      "source": [
        "final_loader = DataLoader(dataset, batch_size= batch_size, shuffle=True)\n",
        "final_model = ConvAutoencoder()\n",
        "final_trainer = AE_cls_train_val(final_model, 10, criterion_AE, criterion_cls, optimizer)\n",
        "final_trainer.train(final_loader, final_loader)\n"
      ]
    },
    {
      "cell_type": "code",
      "execution_count": null,
      "metadata": {
        "colab": {
          "base_uri": "https://localhost:8080/"
        },
        "id": "lCfH3J0Y2MHz",
        "outputId": "415f04fe-942b-45cb-a7c6-8e6b9abc00e4"
      },
      "outputs": [
        {
          "data": {
            "text/plain": [
              "Sequential(\n",
              "  (0): Linear(in_features=128, out_features=2, bias=True)\n",
              "  (1): Softmax(dim=1)\n",
              ")"
            ]
          },
          "execution_count": 26,
          "metadata": {},
          "output_type": "execute_result"
        }
      ],
      "source": [
        "final_model.classifier"
      ]
    },
    {
      "cell_type": "code",
      "execution_count": null,
      "metadata": {
        "id": "s4dE8FkLwVU1"
      },
      "outputs": [],
      "source": [
        "class FinalClassifier (nn.Module) :\n",
        "    def __init__(self, ae_model : ConvAutoencoder):\n",
        "        super().__init__()\n",
        "\n",
        "        self.enc = ae_model.enc\n",
        "        self.classifier = ae_model.classifier\n",
        "\n",
        "    def forward(self, x) :\n",
        "        z = self.enc(x)\n",
        "        out = self.classifier(z)\n",
        "        return out"
      ]
    },
    {
      "cell_type": "code",
      "execution_count": null,
      "metadata": {
        "colab": {
          "base_uri": "https://localhost:8080/",
          "height": 183
        },
        "id": "-V8VAbT92Y4w",
        "outputId": "ed98b30a-e9e9-4d03-c51d-bd4aa48284c2"
      },
      "outputs": [
        {
          "ename": "NameError",
          "evalue": "ignored",
          "output_type": "error",
          "traceback": [
            "\u001b[0;31m---------------------------------------------------------------------------\u001b[0m",
            "\u001b[0;31mNameError\u001b[0m                                 Traceback (most recent call last)",
            "\u001b[0;32m<ipython-input-39-e329d93ed9d3>\u001b[0m in \u001b[0;36m<cell line: 1>\u001b[0;34m()\u001b[0m\n\u001b[0;32m----> 1\u001b[0;31m \u001b[0mfinal_classifier\u001b[0m \u001b[0;34m=\u001b[0m \u001b[0mFinalClassifier\u001b[0m \u001b[0;34m(\u001b[0m\u001b[0mfinal_model\u001b[0m\u001b[0;34m)\u001b[0m\u001b[0;34m\u001b[0m\u001b[0;34m\u001b[0m\u001b[0m\n\u001b[0m\u001b[1;32m      2\u001b[0m \u001b[0mfinal_classifier\u001b[0m\u001b[0;34m\u001b[0m\u001b[0;34m\u001b[0m\u001b[0m\n",
            "\u001b[0;31mNameError\u001b[0m: name 'final_model' is not defined"
          ]
        }
      ],
      "source": [
        "final_classifier = FinalClassifier (final_model)\n",
        "final_classifier"
      ]
    },
    {
      "cell_type": "code",
      "execution_count": null,
      "metadata": {
        "id": "7vffIjCo2geW"
      },
      "outputs": [],
      "source": [
        "path = '/content/drive/MyDrive/DataWizardS/content/iaaa-data/models/DataWizardS_Fourth_Model_AE_Classifier.pth'\n",
        "\n",
        "torch.save(final_classifier.state_dict(), path)\n"
      ]
    },
    {
      "cell_type": "markdown",
      "metadata": {
        "id": "_dX_NrzNOpk-"
      },
      "source": [
        "# Tester"
      ]
    },
    {
      "cell_type": "code",
      "execution_count": null,
      "metadata": {
        "id": "3Z9KJjcxrx31"
      },
      "outputs": [],
      "source": [
        "class TestDICOMDataset(torch.utils.data.Dataset):\n",
        "    def __init__(self, data_dir, transform=None):\n",
        "        self.data_dir = data_dir\n",
        "        # self.labels_df = labels_df\n",
        "        # self.masks_dir = masks_dir\n",
        "        self.transform = transform\n",
        "        self.dicom_paths = os.listdir(self.dicom_dir)\n",
        "\n",
        "\n",
        "\n",
        "    def __len__(self):\n",
        "        return len(self.dicom_paths)\n",
        "\n",
        "    def __getitem__(self, idx):\n",
        "\n",
        "        # Load the DICOM image\n",
        "        # subj_name = labels_df.iloc[idx]['SOPInstanceUID']\n",
        "\n",
        "        # filename = subj_name + '.dcm'\n",
        "        # dicom_path = os.path.join(self.dicom_dir, filename)\n",
        "\n",
        "        dicom_path = dicom_path[idx]\n",
        "        filename = dicom_path.split('/')[-1]\n",
        "        ds = pydicom.dcmread(dicom_path)\n",
        "\n",
        "        # Get the label\n",
        "        # label = labels_df.iloc[idx]['Label']\n",
        "\n",
        "        # Convert to PIL image\n",
        "        img_np = np.float64(ds.pixel_array)\n",
        "\n",
        "        # applying mask on image numpy array before converting that to torch tensor\n",
        "        # if label == 0 :\n",
        "        #     mask_name =  subj_name + '.png'\n",
        "        #     mask_path = os.path.join(masks_dir, mask_name)\n",
        "        #     mask = cv2.imread(mask_path, cv2.COLOR_BGR2GRAY)\n",
        "        #     img_np = mask*img_np  # same as using cv2.bitwise_and()\n",
        "\n",
        "            # img_np = cv2.bitwise_and(img_np, img_np, mask = mask)\n",
        "\n",
        "        img = Image.fromarray(img_np).convert('L')\n",
        "\n",
        "        if self.transform:\n",
        "            img = self.transform(img)\n",
        "\n",
        "        return (filename, img), label\n",
        "\n",
        "\n",
        "\n",
        "# labels_df['Label'].value_counts()"
      ]
    },
    {
      "cell_type": "code",
      "execution_count": null,
      "metadata": {
        "id": "TNyMfnIr6-Wb"
      },
      "outputs": [],
      "source": [
        "class Tester :\n",
        "    def __init__(self, model) :\n",
        "        self.model = model\n",
        "\n",
        "    def test (self, dataloader, output_path) :\n",
        "        self.model.eval()\n",
        "        all_names = np.asarray([], dtype=int)\n",
        "        all_labels = np.asarray([], dtype=int)\n",
        "\n",
        "        with torch.no_grad() :\n",
        "            for name_im, _ in dataloader :\n",
        "\n",
        "                names, batch = name_im\n",
        "\n",
        "                output = self.model(batch)\n",
        "                labels = torch.argmax(output, dim=1)\n",
        "\n",
        "                names = np.asarray(names)\n",
        "                labels = labels.numpy().astype('int')\n",
        "\n",
        "                all_names = np.concatenate((all_names, names), axis=0)\n",
        "                all_labels = np.concatenate((all_labels, labels), axis=0)\n",
        "\n",
        "\n",
        "        df = pd.DataFrame({'name': all_names, 'labels': all_labels})\n",
        "        df.to_csv(output_path, index=False)\n"
      ]
    },
    {
      "cell_type": "code",
      "execution_count": null,
      "metadata": {
        "id": "kZ59gOKPYlHi"
      },
      "outputs": [],
      "source": [
        "import torchvision\n",
        "from torch.utils.data import DataLoader, SubsetRandomSampler\n",
        "\n",
        "\n",
        "mod = ConvAutoencoder()\n",
        "fin_mod = FinalClassifier(mod)\n",
        "\n",
        "# tmpset = torchvision.datasets.CIFAR10(root='./data', train=False,\n",
        "#                                        download=True, transform=transform)\n",
        "# tmploader = torch.utils.data.DataLoader(tmpset, batch_size=64,\n",
        "#                                          shuffle=False, num_workers=2)\n",
        "tmpset = DICDataset(dicom_dir, labels_df, masks_dir, transform)\n",
        "\n",
        "percent = 0.1\n",
        "\n",
        "# Calculate the number of samples to include based on the percentage\n",
        "num_samples = int(percent * len(tmpset))\n",
        "\n",
        "# Randomly sample the indices of the subset\n",
        "indices = torch.randperm(len(tmpset), dtype=int)[:num_samples]\n",
        "\n",
        "tmploader = torch.utils.data.DataLoader(tmpset, batch_size=16, shuffle=False,\n",
        "                                        # sampler=SubsetRandomSampler(indices)\n",
        "                                        )"
      ]
    },
    {
      "cell_type": "code",
      "execution_count": null,
      "metadata": {
        "id": "fvsBLhjNa-If"
      },
      "outputs": [],
      "source": [
        "t = Tester(fin_mod)\n",
        "t.test(tmploader, 'csv_path')"
      ]
    },
    {
      "cell_type": "markdown",
      "metadata": {
        "id": "EPTTFqMC4uWF"
      },
      "source": [
        "# CSV concatenation"
      ]
    },
    {
      "cell_type": "code",
      "execution_count": null,
      "metadata": {
        "id": "PSnldaPP4wjU"
      },
      "outputs": [],
      "source": [
        "def csv_concat (path1, path2, output_path) :\n",
        "\n",
        "    df1 = pd.read_csv(path1)\n",
        "\n",
        "    df2 = pd.read_csv(path2)\n",
        "\n",
        "    combined_df = pd.concat([df1, df2], ignore_index=True)\n",
        "\n",
        "    combined_df.to_csv(output_path, index=False)"
      ]
    }
  ],
  "metadata": {
    "colab": {
      "collapsed_sections": [
        "l3qBWnjaE9KF",
        "Rwx2PgPQ6foz",
        "aqyX_YqwTrCu",
        "5Jh70EhdNewE"
      ],
      "provenance": []
    },
    "kernelspec": {
      "display_name": "Python 3",
      "name": "python3"
    },
    "language_info": {
      "name": "python"
    }
  },
  "nbformat": 4,
  "nbformat_minor": 0
}